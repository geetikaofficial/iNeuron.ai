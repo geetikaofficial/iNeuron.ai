{
 "cells": [
  {
   "cell_type": "markdown",
   "id": "4f85b236",
   "metadata": {},
   "source": [
    "# 1. In the below elements which of them are values or an expression? eg:- values can be integer or string and expressions will be mathematical operators.\n",
    "*\n",
    "&#39;hello&#39;\n",
    "-87.8\n",
    "-\n",
    "/\n",
    "+\n",
    "6\n"
   ]
  },
  {
   "cell_type": "markdown",
   "id": "cee20d59",
   "metadata": {},
   "source": [
    "1.) *,-,/,+ is an expression(mathematical operator)\n",
    "\n",
    "2.) 'hello',-87.5,6 is a value (string)"
   ]
  },
  {
   "cell_type": "markdown",
   "id": "b130fba2",
   "metadata": {},
   "source": [
    "# 2. What is the difference between string and variable?"
   ]
  },
  {
   "cell_type": "markdown",
   "id": "7891f082",
   "metadata": {},
   "source": [
    "String  = String is used to reperesent text and the text or charcters must be enclosed in single and double quotes.in string we can also insert space ,numbers etc.\n",
    "ex 1:"
   ]
  },
  {
   "cell_type": "code",
   "execution_count": 2,
   "id": "0fd35531",
   "metadata": {},
   "outputs": [
    {
     "data": {
      "text/plain": [
       "'geetika'"
      ]
     },
     "execution_count": 2,
     "metadata": {},
     "output_type": "execute_result"
    }
   ],
   "source": [
    "\"geetika\"#double quotes "
   ]
  },
  {
   "cell_type": "code",
   "execution_count": 3,
   "id": "0e4a7801",
   "metadata": {},
   "outputs": [
    {
     "data": {
      "text/plain": [
       "'geetika'"
      ]
     },
     "execution_count": 3,
     "metadata": {},
     "output_type": "execute_result"
    }
   ],
   "source": [
    "'geetika'#single quotes"
   ]
  },
  {
   "cell_type": "markdown",
   "id": "fbac43a6",
   "metadata": {},
   "source": [
    "example 2:\n"
   ]
  },
  {
   "cell_type": "code",
   "execution_count": 9,
   "id": "9e1a44ac",
   "metadata": {},
   "outputs": [
    {
     "data": {
      "text/plain": [
       "'my name is geetika'"
      ]
     },
     "execution_count": 9,
     "metadata": {},
     "output_type": "execute_result"
    }
   ],
   "source": [
    "str1=(\"my name is geetika\")\n",
    "str1\n"
   ]
  },
  {
   "cell_type": "code",
   "execution_count": 10,
   "id": "1c075dc9",
   "metadata": {},
   "outputs": [
    {
     "data": {
      "text/plain": [
       "'my name is geetika ranga'"
      ]
     },
     "execution_count": 10,
     "metadata": {},
     "output_type": "execute_result"
    }
   ],
   "source": [
    "str2=(\"my name is geetika ranga\")\n",
    "str2"
   ]
  },
  {
   "cell_type": "markdown",
   "id": "a6c0fd3b",
   "metadata": {},
   "source": [
    "Variable: Variable are the containers to store data values.we first assign a value to it.\n",
    "Rules:\n",
    "1. Variable name must start with a letter or with underscore.\n",
    "2. Variable name never start with a number.\n",
    "3. Variable name is case-sensitive.\n",
    "\n",
    "example: "
   ]
  },
  {
   "cell_type": "code",
   "execution_count": 11,
   "id": "f52d3fa3",
   "metadata": {},
   "outputs": [
    {
     "name": "stdout",
     "output_type": "stream",
     "text": [
      "5\n",
      "geet\n"
     ]
    }
   ],
   "source": [
    "x=5\n",
    "y=\"geet\"\n",
    "print(x)\n",
    "print(y)"
   ]
  },
  {
   "cell_type": "markdown",
   "id": "b1d59640",
   "metadata": {},
   "source": [
    "# 3. Describe three different data types.\n"
   ]
  },
  {
   "cell_type": "markdown",
   "id": "22fa3ff1",
   "metadata": {},
   "source": [
    "Three data types:\n",
    "* list\n",
    "* set\n",
    "* dictionary\n",
    "1.) List= list are used to store multiple value in a single variable.\n",
    "example1:"
   ]
  },
  {
   "cell_type": "code",
   "execution_count": 14,
   "id": "69ad63d6",
   "metadata": {},
   "outputs": [
    {
     "data": {
      "text/plain": [
       "['geet', 'ranga', 'geetika', 23, 411]"
      ]
     },
     "execution_count": 14,
     "metadata": {},
     "output_type": "execute_result"
    }
   ],
   "source": [
    "l=[\"geet\",\"ranga\",\"geetika\",23,411]\n",
    "l"
   ]
  },
  {
   "cell_type": "markdown",
   "id": "07cd8028",
   "metadata": {},
   "source": [
    "we can also add list into a list\n",
    "ex2: "
   ]
  },
  {
   "cell_type": "code",
   "execution_count": 18,
   "id": "132dc9f4",
   "metadata": {},
   "outputs": [
    {
     "data": {
      "text/plain": [
       "['geet', 'ranga', 'geetika', 21, 212, ['happy', 'lucky']]"
      ]
     },
     "execution_count": 18,
     "metadata": {},
     "output_type": "execute_result"
    }
   ],
   "source": [
    "l1=['geet','ranga','geetika',21,212,[\"happy\",\"lucky\"]]\n",
    "l1"
   ]
  },
  {
   "cell_type": "markdown",
   "id": "f9f85e62",
   "metadata": {},
   "source": [
    "Also access list elements by index \n",
    "ex 3:"
   ]
  },
  {
   "cell_type": "code",
   "execution_count": 20,
   "id": "d99ddb47",
   "metadata": {},
   "outputs": [
    {
     "data": {
      "text/plain": [
       "'geet'"
      ]
     },
     "execution_count": 20,
     "metadata": {},
     "output_type": "execute_result"
    }
   ],
   "source": [
    " l[0]"
   ]
  },
  {
   "cell_type": "markdown",
   "id": "1a517ebd",
   "metadata": {},
   "source": [
    "Also reverse the list:"
   ]
  },
  {
   "cell_type": "code",
   "execution_count": 23,
   "id": "5f8eb780",
   "metadata": {},
   "outputs": [
    {
     "data": {
      "text/plain": [
       "[411, 23, 'geetika', 'ranga', 'geet']"
      ]
     },
     "execution_count": 23,
     "metadata": {},
     "output_type": "execute_result"
    }
   ],
   "source": [
    "l[::-1]"
   ]
  },
  {
   "cell_type": "markdown",
   "id": "0bacab90",
   "metadata": {},
   "source": [
    "# 4. What is an expression made up of? What do all expressions do?"
   ]
  },
  {
   "cell_type": "markdown",
   "id": "7bb485d2",
   "metadata": {},
   "source": [
    "Expression : Expression is made up of operators and operands.Expression is a combination of operands and operators which produce some other value.\n",
    "\n",
    "ex= a+b #expession & + is an operator.\n",
    "\n",
    "lets take a look of example of expression:\n",
    "\n",
    "1.) a*b ,a>b,a>=b,a<=b, a<b, a==b , a%b, a**b\n",
    "\n",
    "2.) a and b ,a or b, not a\n",
    "\n",
    "3.) a>>2,a<<2\n",
    "\n",
    "4.) a+=,b+=,a-=,b-=\n",
    "\n",
    "5.) a/b , a//b"
   ]
  },
  {
   "cell_type": "code",
   "execution_count": 28,
   "id": "542f7ccc",
   "metadata": {},
   "outputs": [
    {
     "data": {
      "text/plain": [
       "22"
      ]
     },
     "execution_count": 28,
     "metadata": {},
     "output_type": "execute_result"
    }
   ],
   "source": [
    "a=10\n",
    "b=12\n",
    "a+b#expression"
   ]
  },
  {
   "cell_type": "markdown",
   "id": "1c67209d",
   "metadata": {},
   "source": [
    "# 5. This assignment statements, like spam = 10. What is the difference between an expression and a statement?"
   ]
  },
  {
   "cell_type": "markdown",
   "id": "9851b169",
   "metadata": {},
   "source": [
    "As an example, spam=10 is an assignment statement \n",
    "statement, the value 10 is assign to spam.\n",
    " "
   ]
  },
  {
   "cell_type": "code",
   "execution_count": 35,
   "id": "564b3bca",
   "metadata": {},
   "outputs": [
    {
     "name": "stdout",
     "output_type": "stream",
     "text": [
      "11\n"
     ]
    }
   ],
   "source": [
    "spam=10#assignment statement\n",
    "spam+=1#expression\n",
    "print(spam)"
   ]
  },
  {
   "cell_type": "markdown",
   "id": "d10d4c7d",
   "metadata": {},
   "source": [
    "So, clearly define the difference."
   ]
  },
  {
   "cell_type": "markdown",
   "id": "c79f4bcd",
   "metadata": {},
   "source": [
    "# 6. After running the following code, what does the variable bacon contain?bacon = 22                                                                                          bacon + 1"
   ]
  },
  {
   "cell_type": "code",
   "execution_count": 36,
   "id": "1e133e0a",
   "metadata": {},
   "outputs": [
    {
     "data": {
      "text/plain": [
       "23"
      ]
     },
     "execution_count": 36,
     "metadata": {},
     "output_type": "execute_result"
    }
   ],
   "source": [
    "bacon=22\n",
    "bacon+1"
   ]
  },
  {
   "cell_type": "markdown",
   "id": "332c0561",
   "metadata": {},
   "source": [
    "# 7. What should the values of the following two terms be?    'spam'+'spamspam'                                                                                                                                                                'spam' * 3"
   ]
  },
  {
   "cell_type": "code",
   "execution_count": 37,
   "id": "aba4f175",
   "metadata": {},
   "outputs": [
    {
     "data": {
      "text/plain": [
       "'spamspamspam'"
      ]
     },
     "execution_count": 37,
     "metadata": {},
     "output_type": "execute_result"
    }
   ],
   "source": [
    "'spam'+'spamspam'"
   ]
  },
  {
   "cell_type": "code",
   "execution_count": 38,
   "id": "197503dd",
   "metadata": {},
   "outputs": [
    {
     "data": {
      "text/plain": [
       "'spamspamspam'"
      ]
     },
     "execution_count": 38,
     "metadata": {},
     "output_type": "execute_result"
    }
   ],
   "source": [
    "'spam'*3"
   ]
  },
  {
   "cell_type": "markdown",
   "id": "9598d8ea",
   "metadata": {},
   "source": [
    "Same output of both of the expression."
   ]
  },
  {
   "cell_type": "markdown",
   "id": "08420610",
   "metadata": {},
   "source": [
    "# 8. Why is eggs a valid variable name while 100 is invalid?"
   ]
  },
  {
   "cell_type": "markdown",
   "id": "f239529c",
   "metadata": {},
   "source": [
    "Some rules to declare varaible:\n",
    "1. the first letter of the variable must be a character or underscore_.\n",
    "2. the first letter of the variable name never be a digit.\n",
    "and,According both of the rules: \n",
    "eggs is a valid variable name becuase it starts with a character not with the special character or the digit.\n",
    "and 100 is not a valid variable name because it starts with a digit and variable name never starts with a digit."
   ]
  },
  {
   "cell_type": "code",
   "execution_count": 40,
   "id": "6001a0d7",
   "metadata": {},
   "outputs": [
    {
     "data": {
      "text/plain": [
       "'cock'"
      ]
     },
     "execution_count": 40,
     "metadata": {},
     "output_type": "execute_result"
    }
   ],
   "source": [
    "eggs=\"cock\"\n",
    "eggs"
   ]
  },
  {
   "cell_type": "code",
   "execution_count": 41,
   "id": "bc92683a",
   "metadata": {},
   "outputs": [
    {
     "ename": "SyntaxError",
     "evalue": "cannot assign to literal (Temp/ipykernel_20736/2163768187.py, line 1)",
     "output_type": "error",
     "traceback": [
      "\u001b[1;36m  File \u001b[1;32m\"C:\\Users\\ACER\\AppData\\Local\\Temp/ipykernel_20736/2163768187.py\"\u001b[1;36m, line \u001b[1;32m1\u001b[0m\n\u001b[1;33m    100=\"cock\"\u001b[0m\n\u001b[1;37m    ^\u001b[0m\n\u001b[1;31mSyntaxError\u001b[0m\u001b[1;31m:\u001b[0m cannot assign to literal\n"
     ]
    }
   ],
   "source": [
    "100=\"cock\""
   ]
  },
  {
   "cell_type": "markdown",
   "id": "9df86b0c",
   "metadata": {},
   "source": [
    "100 is not a valid variable name."
   ]
  },
  {
   "cell_type": "markdown",
   "id": "51897f5f",
   "metadata": {},
   "source": [
    "# 9. What three functions can be used to get the integer, floating-point number, or string version of a value?"
   ]
  },
  {
   "cell_type": "markdown",
   "id": "f64fa5cb",
   "metadata": {},
   "source": [
    "Integer = int() function is used\n",
    "\n",
    "example:"
   ]
  },
  {
   "cell_type": "code",
   "execution_count": 46,
   "id": "f9a4f816",
   "metadata": {},
   "outputs": [
    {
     "name": "stdout",
     "output_type": "stream",
     "text": [
      "enter a value12\n"
     ]
    }
   ],
   "source": [
    " a=int(input(\"enter a value\"))"
   ]
  },
  {
   "cell_type": "markdown",
   "id": "fa0bab19",
   "metadata": {},
   "source": [
    "Floating point =float() function is used.\n",
    "\n",
    "example:\n"
   ]
  },
  {
   "cell_type": "code",
   "execution_count": 47,
   "id": "91b110f6",
   "metadata": {},
   "outputs": [
    {
     "data": {
      "text/plain": [
       "121.0"
      ]
     },
     "execution_count": 47,
     "metadata": {},
     "output_type": "execute_result"
    }
   ],
   "source": [
    "float(121)\n"
   ]
  },
  {
   "cell_type": "markdown",
   "id": "ea91436c",
   "metadata": {},
   "source": [
    "\n",
    "String = str() function is used.\n",
    "\n",
    "example:\n"
   ]
  },
  {
   "cell_type": "code",
   "execution_count": 49,
   "id": "0653c920",
   "metadata": {},
   "outputs": [
    {
     "name": "stdout",
     "output_type": "stream",
     "text": [
      "geet\n"
     ]
    }
   ],
   "source": [
    "str=(\"geet\")\n",
    "print(str)\n"
   ]
  },
  {
   "cell_type": "markdown",
   "id": "49210dcd",
   "metadata": {},
   "source": [
    "# 10. Why does this expression cause an error? How can you fix it?\n",
    "'I have eaten' + 99 + 'burritos'"
   ]
  },
  {
   "cell_type": "code",
   "execution_count": 50,
   "id": "b238c30f",
   "metadata": {},
   "outputs": [
    {
     "ename": "TypeError",
     "evalue": "can only concatenate str (not \"int\") to str",
     "output_type": "error",
     "traceback": [
      "\u001b[1;31m---------------------------------------------------------------------------\u001b[0m",
      "\u001b[1;31mTypeError\u001b[0m                                 Traceback (most recent call last)",
      "\u001b[1;32m~\\AppData\\Local\\Temp/ipykernel_20736/1262497261.py\u001b[0m in \u001b[0;36m<module>\u001b[1;34m\u001b[0m\n\u001b[1;32m----> 1\u001b[1;33m \u001b[1;34m'i have eaten'\u001b[0m\u001b[1;33m+\u001b[0m \u001b[1;36m99\u001b[0m\u001b[1;33m+\u001b[0m \u001b[1;34m'burritos'\u001b[0m\u001b[1;33m\u001b[0m\u001b[1;33m\u001b[0m\u001b[0m\n\u001b[0m",
      "\u001b[1;31mTypeError\u001b[0m: can only concatenate str (not \"int\") to str"
     ]
    }
   ],
   "source": [
    "'i have eaten'+ 99+ 'burritos'"
   ]
  },
  {
   "cell_type": "code",
   "execution_count": 58,
   "id": "d12ad946",
   "metadata": {},
   "outputs": [
    {
     "data": {
      "text/plain": [
       "'I have eaten 99 burritos'"
      ]
     },
     "execution_count": 58,
     "metadata": {},
     "output_type": "execute_result"
    }
   ],
   "source": [
    "'I have eaten' + ' 99 ' + 'burritos'"
   ]
  },
  {
   "cell_type": "code",
   "execution_count": null,
   "id": "a2cb7a3b",
   "metadata": {},
   "outputs": [],
   "source": []
  },
  {
   "cell_type": "code",
   "execution_count": null,
   "id": "ddab6899",
   "metadata": {},
   "outputs": [],
   "source": []
  },
  {
   "cell_type": "code",
   "execution_count": 1,
   "id": "77462485",
   "metadata": {},
   "outputs": [],
   "source": []
  },
  {
   "cell_type": "code",
   "execution_count": null,
   "id": "0b31f5ab",
   "metadata": {},
   "outputs": [],
   "source": []
  },
  {
   "cell_type": "code",
   "execution_count": null,
   "id": "48168c73",
   "metadata": {},
   "outputs": [],
   "source": []
  },
  {
   "cell_type": "code",
   "execution_count": null,
   "id": "ddc61bf1",
   "metadata": {},
   "outputs": [],
   "source": []
  },
  {
   "cell_type": "code",
   "execution_count": null,
   "id": "bb966230",
   "metadata": {},
   "outputs": [],
   "source": []
  },
  {
   "cell_type": "code",
   "execution_count": null,
   "id": "7eefcf24",
   "metadata": {},
   "outputs": [],
   "source": []
  },
  {
   "cell_type": "code",
   "execution_count": null,
   "id": "66040dd0",
   "metadata": {},
   "outputs": [],
   "source": []
  }
 ],
 "metadata": {
  "kernelspec": {
   "display_name": "Python 3 (ipykernel)",
   "language": "python",
   "name": "python3"
  },
  "language_info": {
   "codemirror_mode": {
    "name": "ipython",
    "version": 3
   },
   "file_extension": ".py",
   "mimetype": "text/x-python",
   "name": "python",
   "nbconvert_exporter": "python",
   "pygments_lexer": "ipython3",
   "version": "3.9.7"
  }
 },
 "nbformat": 4,
 "nbformat_minor": 5
}
